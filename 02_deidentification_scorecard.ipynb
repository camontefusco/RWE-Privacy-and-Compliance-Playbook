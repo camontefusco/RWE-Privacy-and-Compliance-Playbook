{
 "cells": [
  {
   "cell_type": "markdown",
   "id": "c7194024",
   "metadata": {},
   "source": [
    "\n",
    "# 02 · De‑identification Scorecard (Robust Paths, Pruning + Multi‑Mask Suppression)\n",
    "\n",
    "This notebook consumes **Notebook 01** outputs (`data/privacy_report.json`) and performs practical de‑identification:\n",
    "\n",
    "- Drops **direct identifiers** (from Notebook 01)\n",
    "- Applies **generalization** (dates → year/quarter/decade; ZIP5→ZIP3; state→region; age bands)\n",
    "- Ranks quasi‑identifiers by **distinct ratio**\n",
    "- **Prunes** quasi‑IDs iteratively (even if k doesn't improve immediately) until a floor\n",
    "- **Smart suppression** of small equivalence classes (ECs): casts to object, masks N columns to \"Other\", and drops up to a budget of rows\n",
    "- Recomputes **k / l**, writes **JSON scorecard**, saves **before/after k-histograms**\n",
    "- Uses **robust repo_root discovery** so paths work from notebooks/ or project root\n"
   ]
  },
  {
   "cell_type": "code",
   "execution_count": 3,
   "id": "162f4b7a",
   "metadata": {},
   "outputs": [
    {
     "name": "stdout",
     "output_type": "stream",
     "text": [
      "repo_root = /Users/cmontefusco/Coding projects/RWE-Privacy-and-Compliance-Playbook\n",
      "DATA_DIR  = /Users/cmontefusco/Coding projects/RWE-Privacy-and-Compliance-Playbook/data\n",
      "ASSETS    = /Users/cmontefusco/Coding projects/RWE-Privacy-and-Compliance-Playbook/reports/assets\n"
     ]
    }
   ],
   "source": [
    "\n",
    "import os, json, math, pandas as pd, numpy as np, matplotlib.pyplot as plt\n",
    "from pathlib import Path\n",
    "import sys\n",
    "from datetime import datetime\n",
    "\n",
    "# -------- Robust repo_root discovery --------\n",
    "cwd = Path.cwd()\n",
    "if (cwd / \"notebooks\").exists():\n",
    "    repo_root = cwd  # running from repo root\n",
    "elif (cwd.name == \"notebooks\") and (cwd.parent / \"data\").exists():\n",
    "    repo_root = cwd.parent  # running from notebooks/\n",
    "else:\n",
    "    # Fallback: walk up until we find data/ and scripts/\n",
    "    probe = cwd\n",
    "    found = None\n",
    "    for _ in range(5):\n",
    "        if (probe / \"data\").exists():\n",
    "            found = probe; break\n",
    "        probe = probe.parent\n",
    "    repo_root = found if found else cwd\n",
    "\n",
    "DATA_DIR = repo_root / \"data\"\n",
    "ASSETS   = repo_root / \"reports\" / \"assets\"\n",
    "SCRIPTS  = repo_root / \"scripts\"\n",
    "VISUALS  = repo_root / \"visuals\"\n",
    "for p in (SCRIPTS, VISUALS):\n",
    "    if p.exists() and str(p) not in sys.path:\n",
    "        sys.path.append(str(p))\n",
    "\n",
    "DATA_DIR.mkdir(exist_ok=True, parents=True)\n",
    "ASSETS.mkdir(exist_ok=True, parents=True)\n",
    "\n",
    "print(\"repo_root =\", repo_root)\n",
    "print(\"DATA_DIR  =\", DATA_DIR)\n",
    "print(\"ASSETS    =\", ASSETS)"
   ]
  },
  {
   "cell_type": "code",
   "execution_count": 9,
   "id": "8625e2ae-47a5-46c1-854b-2f9e88e32fb4",
   "metadata": {},
   "outputs": [
    {
     "name": "stdout",
     "output_type": "stream",
     "text": [
      "Repo on path: /Users/cmontefusco/Coding projects/RWE-Privacy-and-Compliance-Playbook\n",
      "Has __init__.py? True True\n"
     ]
    }
   ],
   "source": [
    "import sys\n",
    "from pathlib import Path\n",
    "\n",
    "# Point to your repo root\n",
    "repo_root = Path(\"/Users/cmontefusco/Coding projects/RWE-Privacy-and-Compliance-Playbook\")\n",
    "scripts_dir = repo_root / \"scripts\"\n",
    "visuals_dir = repo_root / \"visuals\"\n",
    "\n",
    "# Ensure packages\n",
    "(scripts_dir / \"__init__.py\").touch()\n",
    "(visuals_dir / \"__init__.py\").touch()\n",
    "\n",
    "# Add repo root to Python path\n",
    "if str(repo_root) not in sys.path:\n",
    "    sys.path.insert(0, str(repo_root))\n",
    "\n",
    "print(\"Repo on path:\", repo_root)\n",
    "print(\"Has __init__.py?\",\n",
    "      (scripts_dir / \"__init__.py\").exists(),\n",
    "      (visuals_dir / \"__init__.py\").exists())\n"
   ]
  },
  {
   "cell_type": "markdown",
   "id": "fafc7b5e",
   "metadata": {},
   "source": [
    "## Imports with graceful fallbacks"
   ]
  },
  {
   "cell_type": "code",
   "execution_count": 12,
   "id": "77df072b",
   "metadata": {},
   "outputs": [],
   "source": [
    "\n",
    "# Try to import project helpers; fallback to light implementations\n",
    "try:\n",
    "    from scripts.privacy_checks import (\n",
    "        load_dataset, build_privacy_report, detect_direct_identifiers,\n",
    "        detect_quasi_identifiers, k_anonymity, l_diversity\n",
    "    )\n",
    "except Exception as e:\n",
    "    print(\"[warn] privacy_checks not available, using light fallbacks:\", e)\n",
    "    def load_dataset(path): return pd.read_csv(path)\n",
    "    def detect_direct_identifiers(df):\n",
    "        direct = {\"name\",\"email\",\"phone\",\"mrn\",\"ssn\",\"address\",\"patient_id\"}\n",
    "        return [c for c in df.columns if c.lower() in direct]\n",
    "    def detect_quasi_identifiers(df):\n",
    "        likely = {\"dob\",\"birth_date\",\"birth_year\",\"visit_date\",\"zip5\",\"zip_code\",\"city\",\"county\",\"state\",\n",
    "                  \"sex\",\"race\",\"ethnicity\",\"payer\",\"condition\",\"icd10\",\"med_main\",\"bp_category\"}\n",
    "        add_objs = [c for c in df.columns if df[c].dtype==\"object\"]\n",
    "        return sorted(set([c for c in df.columns if c in likely] + add_objs))\n",
    "    def k_anonymity(df, quasi):\n",
    "        if not quasi: return float(\"inf\")\n",
    "        return int(df.groupby(quasi, dropna=False).size().min())\n",
    "    def l_diversity(df, quasi, sensitive, method=\"distinct\"):\n",
    "        if not quasi or not sensitive or sensitive not in df.columns: return np.nan\n",
    "        g = df.groupby(quasi, dropna=False)[sensitive].nunique(dropna=False)\n",
    "        return float(g.min()) if len(g) else np.nan\n",
    "\n",
    "try:\n",
    "    from visuals.privacy_plots import plot_k_equivalence_hist, save_fig\n",
    "except Exception as e:\n",
    "    print(\"[warn] privacy_plots not available, using plot fallbacks:\", e)\n",
    "    def plot_k_equivalence_hist(df, quasi, title=\"k distribution\"):\n",
    "        if not quasi:\n",
    "            fig = plt.figure(); plt.title(title + \" (no quasi)\"); return fig\n",
    "        sizes = df.groupby(quasi, dropna=False).size()\n",
    "        fig = plt.figure()\n",
    "        plt.hist(sizes, bins=30)\n",
    "        plt.xlabel(\"Equivalence class size (k)\"); plt.ylabel(\"Count of classes\"); plt.title(title)\n",
    "        return fig\n",
    "    def save_fig(fig, path):\n",
    "        path.parent.mkdir(parents=True, exist_ok=True)\n",
    "        fig.savefig(path, bbox_inches=\"tight\", dpi=150)\n",
    "        return str(path)"
   ]
  },
  {
   "cell_type": "markdown",
   "id": "97e25b6c",
   "metadata": {},
   "source": [
    "## Load dataset + identifiers from Notebook 01"
   ]
  },
  {
   "cell_type": "code",
   "execution_count": 15,
   "id": "e6cd59a9",
   "metadata": {},
   "outputs": [
    {
     "name": "stdout",
     "output_type": "stream",
     "text": [
      "[info] Loaded dataset: /Users/cmontefusco/Coding projects/RWE-Privacy-and-Compliance-Playbook/data/sample_synthetic.csv shape=(10000, 28)\n",
      "Loaded identifiers from: /Users/cmontefusco/Coding projects/RWE-Privacy-and-Compliance-Playbook/data/privacy_report.json\n",
      "  direct_before: ['email', 'mrn', 'name', 'phone']\n",
      "  quasi_before : ['birth_year', 'bp_category', 'city', 'condition', 'county', 'dob', 'ethnicity', 'icd10', 'med_main', 'payer', 'race', 'sex', 'site_id', 'state', 'visit_date', 'zip5']\n",
      "  sensitive_col: condition\n"
     ]
    }
   ],
   "source": [
    "\n",
    "# Prefer uploaded dataset (for cloud runs), else project sample\n",
    "uploaded = Path(\"/mnt/data/sample_synthetic.csv\")\n",
    "default_data = DATA_DIR / \"sample_synthetic.csv\"\n",
    "DATA_FILE = uploaded if uploaded.exists() else default_data\n",
    "\n",
    "if not DATA_FILE.exists():\n",
    "    raise FileNotFoundError(f\"Dataset not found at {DATA_FILE}. Place a CSV in data/ or upload one.\")\n",
    "\n",
    "df_raw = load_dataset(DATA_FILE)\n",
    "print(f\"[info] Loaded dataset: {DATA_FILE} shape={df_raw.shape}\")\n",
    "\n",
    "# Load Notebook 01 report (authoritative for identifiers)\n",
    "report_path = DATA_DIR / \"privacy_report.json\"\n",
    "if not report_path.exists():\n",
    "    # Try absolute path hint env var if user supplied (optional)\n",
    "    alt = os.getenv(\"PRIVACY_REPORT_JSON\")\n",
    "    if alt and Path(alt).exists():\n",
    "        report_path = Path(alt)\n",
    "    else:\n",
    "        raise FileNotFoundError(f\"Missing {report_path}. Run 01_privacy_quasi_identifier_scan.ipynb first \"\n",
    "                                \"or set PRIVACY_REPORT_JSON env var to an absolute path.\")\n",
    "\n",
    "report = json.loads(report_path.read_text())\n",
    "\n",
    "direct_before = sorted(set(report.get(\"direct_identifiers\", [])))\n",
    "quasi_before  = sorted(set(report.get(\"quasi_identifiers\", [])))\n",
    "sensitive_col = report.get(\"summary\", {}).get(\"sensitive_col\") or report.get(\"sensitive_col\")\n",
    "\n",
    "print(\"Loaded identifiers from:\", report_path)\n",
    "print(\"  direct_before:\", direct_before)\n",
    "print(\"  quasi_before :\", quasi_before)\n",
    "print(\"  sensitive_col:\", sensitive_col if sensitive_col else \"(none)\")"
   ]
  },
  {
   "cell_type": "markdown",
   "id": "bcd73251",
   "metadata": {},
   "source": [
    "## Config knobs"
   ]
  },
  {
   "cell_type": "code",
   "execution_count": 18,
   "id": "cc02d130",
   "metadata": {},
   "outputs": [],
   "source": [
    "\n",
    "TARGET_K = 5\n",
    "TARGET_L = 2\n",
    "\n",
    "PRUNE_FLOOR = 5               # don't go below this number of quasi-IDs\n",
    "RARE_THRESHOLD = 0.05         # bucket rare categories\n",
    "TOP_N_CAP      = 6\n",
    "\n",
    "SUPPRESSION_BUDGET = 0.05     # ≤5% rows may be dropped if needed\n",
    "SUPPRESS_MODE      = \"row_or_mask\"\n",
    "MAX_MASK_COLS      = 3        # mask up to N high-impact quasi columns"
   ]
  },
  {
   "cell_type": "markdown",
   "id": "cbfb41ac",
   "metadata": {},
   "source": [
    "## Generalization helpers & utilities"
   ]
  },
  {
   "cell_type": "code",
   "execution_count": 21,
   "id": "c60a68f4",
   "metadata": {},
   "outputs": [],
   "source": [
    "\n",
    "US_REGIONS = {\n",
    "    \"Northeast\": {\"ME\",\"NH\",\"VT\",\"MA\",\"RI\",\"CT\",\"NY\",\"NJ\",\"PA\"},\n",
    "    \"Midwest\":   {\"OH\",\"MI\",\"IN\",\"IL\",\"WI\",\"MN\",\"IA\",\"MO\",\"ND\",\"SD\",\"NE\",\"KS\"},\n",
    "    \"South\":     {\"DE\",\"MD\",\"DC\",\"VA\",\"WV\",\"NC\",\"SC\",\"GA\",\"FL\",\"KY\",\"TN\",\"MS\",\"AL\",\"OK\",\"TX\",\"AR\",\"LA\"},\n",
    "    \"West\":      {\"ID\",\"MT\",\"WY\",\"NV\",\"UT\",\"CO\",\"AZ\",\"NM\",\"AK\",\"WA\",\"OR\",\"CA\",\"HI\"}\n",
    "}\n",
    "\n",
    "def to_datetime_safe(s):\n",
    "    try:\n",
    "        return pd.to_datetime(s, errors=\"coerce\")\n",
    "    except Exception:\n",
    "        return pd.to_datetime(pd.Series([np.nan]*len(s)))\n",
    "\n",
    "def generalize_dates(df, cols, level=\"year\"):\n",
    "    out = df.copy()\n",
    "    for c in cols:\n",
    "        if c not in out.columns: \n",
    "            continue\n",
    "        s = to_datetime_safe(out[c])\n",
    "        if level == \"year\":\n",
    "            out[c] = s.dt.year.astype(\"Int64\")\n",
    "        elif level == \"year_quarter\":\n",
    "            out[c] = s.dt.year.astype(\"Int64\").astype(str) + \"-Q\" + (((s.dt.month-1)//3)+1).astype(\"Int64\").astype(str)\n",
    "        elif level == \"year_month\":\n",
    "            out[c] = s.dt.to_period(\"M\").astype(str)\n",
    "        elif level == \"decade\":\n",
    "            out[c] = ((s.dt.year // 10) * 10).astype(\"Int64\")\n",
    "    return out\n",
    "\n",
    "def add_age_band_from_birth_year(df, band=\"10y\"):\n",
    "    out = df.copy()\n",
    "    if \"birth_year\" in out.columns:\n",
    "        if band == \"10y\":\n",
    "            out[\"age_band\"] = ((pd.Timestamp.now().year - out[\"birth_year\"]) // 10 * 10).astype(\"Int64\").astype(str) + \"s\"\n",
    "        elif band == \"20y\":\n",
    "            out[\"age_band\"] = ((pd.Timestamp.now().year - out[\"birth_year\"]) // 20 * 20).astype(\"Int64\").astype(str) + \"s\"\n",
    "    return out\n",
    "\n",
    "def zip5_to_zip3(series): return series.astype(str).str.slice(0,3)\n",
    "\n",
    "def generalize_geo(df, to=\"zip3_state_region\"):\n",
    "    out = df.copy()\n",
    "    rename_map = {}\n",
    "    if \"zip_code\" in out.columns and \"zip5\" not in out.columns:\n",
    "        rename_map[\"zip_code\"] = \"zip5\"\n",
    "    if \"birth_date\" in out.columns and \"dob\" not in out.columns:\n",
    "        rename_map[\"birth_date\"] = \"dob\"\n",
    "    if \"visitdate\" in out.columns and \"visit_date\" not in out.columns:\n",
    "        rename_map[\"visitdate\"] = \"visit_date\"\n",
    "    if rename_map:\n",
    "        out = out.rename(columns=rename_map)\n",
    "\n",
    "    if \"zip5\" in out.columns:\n",
    "        out[\"zip3\"] = zip5_to_zip3(out[\"zip5\"])\n",
    "    if \"city\" in out.columns and \"state\" in out.columns:\n",
    "        out.drop(columns=[\"city\"], inplace=True)\n",
    "    if \"county\" in out.columns and \"state\" in out.columns:\n",
    "        out.drop(columns=[\"county\"], inplace=True)\n",
    "    if \"state\" in out.columns:\n",
    "        def _region(x):\n",
    "            x = str(x).upper()\n",
    "            for r, states in US_REGIONS.items():\n",
    "                if x in states:\n",
    "                    return r\n",
    "            return \"Other\"\n",
    "        out[\"region\"] = out[\"state\"].map(_region)\n",
    "        if to == \"region_only\":\n",
    "            out = out[[c for c in out.columns if c != \"state\"]]\n",
    "    return out\n",
    "\n",
    "def bucket_rare_categories(df, cols, rare_threshold=0.05, top_n_cap=6):\n",
    "    out = df.copy()\n",
    "    for c in cols:\n",
    "        if c not in out.columns: \n",
    "            continue\n",
    "        if not (out[c].dtype == \"object\" or str(out[c].dtype) == \"category\"):\n",
    "            continue\n",
    "        vc = out[c].value_counts(normalize=True, dropna=True)\n",
    "        keep = set(vc[vc >= rare_threshold].index.tolist()[:top_n_cap])\n",
    "        out[c] = out[c].where(out[c].isin(keep), other=\"Other\")\n",
    "    return out\n",
    "\n",
    "def drop_direct(df, direct_cols):\n",
    "    cols = [c for c in direct_cols if c in df.columns]\n",
    "    return df.drop(columns=cols) if cols else df\n",
    "\n",
    "def score_privacy(df, quasi_cols, sensitive):\n",
    "    q = [c for c in (quasi_cols or []) if c in df.columns]\n",
    "    if len(q) == 0:\n",
    "        return float(\"inf\"), float(\"nan\")\n",
    "    k = k_anonymity(df, q)\n",
    "    l = l_diversity(df, q, sensitive, method=\"distinct\") if sensitive and sensitive in df.columns else np.nan\n",
    "    return float(k), (float(l) if not pd.isna(l) else np.nan)\n",
    "\n",
    "def distinct_ratio(df, col):\n",
    "    return df[col].nunique(dropna=False) / len(df)\n",
    "\n",
    "def rank_quasi(df, quasi):\n",
    "    return sorted([(c, distinct_ratio(df, c)) for c in quasi], key=lambda x: x[1], reverse=True)\n",
    "\n",
    "def test_best_drop_for_k(df, qids):\n",
    "    current_k = k_anonymity(df, qids) if qids else float('inf')\n",
    "    trials = []\n",
    "    for c in qids:\n",
    "        q_try = [x for x in qids if x != c]\n",
    "        k_try = k_anonymity(df, q_try) if q_try else float('inf')\n",
    "        trials.append((c, k_try))\n",
    "    if not trials:\n",
    "        return None, current_k\n",
    "    trials.sort(key=lambda x: x[1], reverse=True)\n",
    "    return trials[0]\n",
    "\n",
    "def force_prune_quasi_ids(df, quasi, target_k=5, target_l=2, floor=5, sensitive=None):\n",
    "    q = [c for c in quasi if c in df.columns]\n",
    "    log = []\n",
    "    while len(q) > floor:\n",
    "        k = k_anonymity(df, q)\n",
    "        l = l_diversity(df, q, sensitive, method=\"distinct\") if sensitive else np.nan\n",
    "        if k >= target_k and (np.isnan(l) or l >= target_l):\n",
    "            break\n",
    "        ranked = sorted([(c, df[c].nunique(dropna=False)/len(df)) for c in q], key=lambda x: x[1], reverse=True)\n",
    "        worst = ranked[0][0]\n",
    "        q.remove(worst)\n",
    "        log.append(f\"force-drop '{worst}' (high distinct ratio)\")\n",
    "    k = k_anonymity(df, q) if q else float(\"inf\")\n",
    "    l = l_diversity(df, q, sensitive, method=\"distinct\") if sensitive else np.nan\n",
    "    return q, k, l, log\n",
    "\n",
    "def suppress_small_ecs(df, qids, min_k=5, mode=\"row_or_mask\", budget_frac=0.05, max_mask_cols=3):\n",
    "    if not qids:\n",
    "        return df, []\n",
    "    actions = []\n",
    "    g = df.groupby(qids, dropna=False).size()\n",
    "    small_keys = set(g[g < min_k].index)\n",
    "    if not small_keys:\n",
    "        return df, []\n",
    "    mask_small = df[qids].apply(tuple, axis=1).isin(small_keys)\n",
    "    n_small = int(mask_small.sum())\n",
    "    budget = int(len(df) * budget_frac)\n",
    "\n",
    "    # Mask high-impact columns first\n",
    "    if mode in (\"mask\", \"row_or_mask\") and n_small:\n",
    "        ranked = sorted([(c, df[c].nunique(dropna=False)/len(df)) for c in qids], key=lambda x: x[1], reverse=True)\n",
    "        cols_to_mask = [c for c,_ in ranked[:max_mask_cols]]\n",
    "        df2 = df.copy()\n",
    "        for c in cols_to_mask:\n",
    "            if c in df2.columns:\n",
    "                df2[c] = df2[c].astype(\"object\")\n",
    "        for c in cols_to_mask:\n",
    "            if c in df2.columns:\n",
    "                df2.loc[mask_small, c] = \"Other\"\n",
    "        actions.append(f\"masked {cols_to_mask} on {n_small} rows to increase k\")\n",
    "        df = df2\n",
    "        g2 = df.groupby(qids, dropna=False).size()\n",
    "        small_keys2 = set(g2[g2 < min_k].index)\n",
    "        mask_small = df[qids].apply(tuple, axis=1).isin(small_keys2)\n",
    "        n_small = int(mask_small.sum())\n",
    "\n",
    "    if mode in (\"row\", \"row_or_mask\") and n_small:\n",
    "        idx_small = df[mask_small].index[:max(0, min(budget, n_small))]\n",
    "        df = df.drop(index=idx_small).copy()\n",
    "        actions.append(f\"dropped {len(idx_small)} rows (budget {budget}, {(len(idx_small)/len(df)):.2%})\")\n",
    "    return df, actions"
   ]
  },
  {
   "cell_type": "markdown",
   "id": "fe098b49",
   "metadata": {},
   "source": [
    "## Baseline (BEFORE) and initial `qids`"
   ]
  },
  {
   "cell_type": "code",
   "execution_count": 24,
   "id": "c341a7dd",
   "metadata": {},
   "outputs": [
    {
     "name": "stdout",
     "output_type": "stream",
     "text": [
      "Baseline: k=1.0, l=1.0 | direct=4 | quasi=16\n"
     ]
    }
   ],
   "source": [
    "\n",
    "df_work = drop_direct(df_raw.copy(), direct_before)\n",
    "quasi_detected_auto = detect_quasi_identifiers(df_raw)\n",
    "quasi_before = sorted(set(quasi_before) | set(quasi_detected_auto))\n",
    "qids = [c for c in quasi_before if c in df_work.columns]\n",
    "\n",
    "k_before, l_before = score_privacy(df_raw, quasi_before, sensitive_col)\n",
    "print(f\"Baseline: k={k_before}, l={l_before} | direct={len(direct_before)} | quasi={len(quasi_before)}\")"
   ]
  },
  {
   "cell_type": "markdown",
   "id": "6231f7af",
   "metadata": {},
   "source": [
    "## Generalization pass (dates, geo, buckets)"
   ]
  },
  {
   "cell_type": "code",
   "execution_count": 27,
   "id": "513d3e05",
   "metadata": {},
   "outputs": [],
   "source": [
    "\n",
    "log = []\n",
    "\n",
    "date_cols = [c for c in [\"dob\",\"birth_date\",\"visit_date\"] if c in df_work.columns]\n",
    "cat_cols_for_bucketing = [c for c in [\"condition\",\"race\",\"ethnicity\",\"payer\",\"med_main\",\"bp_category\"] if c in df_work.columns]\n",
    "\n",
    "for lvl in [\"year\", \"year_quarter\", \"decade\"]:\n",
    "    df_work = generalize_dates(df_work, date_cols, level=lvl)\n",
    "    log.append(f\"dates → {lvl}\")\n",
    "df_work = add_age_band_from_birth_year(df_work, band=\"10y\")\n",
    "log.append(\"birth_year → age_band(10y)\")\n",
    "\n",
    "df_work = generalize_geo(df_work, to=\"zip3_state_region\")\n",
    "log.append(\"geo → zip3 + state + region (drop city/county)\")\n",
    "df_work = generalize_geo(df_work, to=\"region_only\")\n",
    "log.append(\"geo → region_only\")\n",
    "\n",
    "df_work = bucket_rare_categories(df_work, cat_cols_for_bucketing, rare_threshold=RARE_THRESHOLD, top_n_cap=TOP_N_CAP)\n",
    "log.append(f\"bucket categories → rare<{RARE_THRESHOLD}, topN<={TOP_N_CAP}\")\n",
    "\n",
    "k_cur, l_cur = score_privacy(df_work, qids, sensitive_col)\n",
    "log.append(f\"After generalization: k={k_cur}, l={l_cur} with {len(qids)} quasi\")"
   ]
  },
  {
   "cell_type": "markdown",
   "id": "ba50f457",
   "metadata": {},
   "source": [
    "## Aggressive quasi‑ID pruning (force)"
   ]
  },
  {
   "cell_type": "code",
   "execution_count": 32,
   "id": "6117da07-e91b-4f96-9509-d8618457bf8e",
   "metadata": {},
   "outputs": [],
   "source": [
    "def sanitize_qids(df, qids):\n",
    "    \"\"\"Keep only quasi IDs that still exist in df (and drop all-null columns).\"\"\"\n",
    "    existing = [c for c in (qids or []) if c in df.columns]\n",
    "    # drop columns that are entirely NA after masking/generalization\n",
    "    existing = [c for c in existing if not df[c].isna().all()]\n",
    "    return existing\n"
   ]
  },
  {
   "cell_type": "code",
   "execution_count": 34,
   "id": "e56259a6-4daf-459e-82d9-46996659e23f",
   "metadata": {},
   "outputs": [],
   "source": [
    "qids = sanitize_qids(df_work, qids)\n",
    "k_cur  = k_anonymity(df_work, qids) if qids else float(\"inf\")\n",
    "l_cur  = l_diversity(df_work, qids, sensitive_col, method=\"distinct\") if qids and sensitive_col else np.nan\n"
   ]
  },
  {
   "cell_type": "code",
   "execution_count": 36,
   "id": "6485be9f-abb4-44e9-9216-b6150809d779",
   "metadata": {},
   "outputs": [
    {
     "name": "stdout",
     "output_type": "stream",
     "text": [
      "After force-prune: ['bp_category', 'dob', 'ethnicity', 'payer', 'sex', 'visit_date'] k= 6 l= 3.0\n"
     ]
    }
   ],
   "source": [
    "qids = sanitize_qids(df_work, qids)\n",
    "\n",
    "prune_log = []\n",
    "best = test_best_drop_for_k(df_work, qids) if qids else None\n",
    "if best:\n",
    "    col, k_if_dropped = best\n",
    "    if k_if_dropped > k_anonymity(df_work, qids):\n",
    "        qids.remove(col)\n",
    "        prune_log.append(f\"drop '{col}' → k→{k_if_dropped}\")\n",
    "\n",
    "# Force prune (with sanitized qids)\n",
    "qids = sanitize_qids(df_work, qids)\n",
    "quasi_pruned_forced, k_fp, l_fp, force_log = force_prune_quasi_ids(\n",
    "    df_work, qids, target_k=TARGET_K, target_l=TARGET_L, floor=PRUNE_FLOOR, sensitive=sensitive_col\n",
    ")\n",
    "qids = sanitize_qids(df_work, quasi_pruned_forced)\n",
    "print(\"After force-prune:\", qids, \"k=\", k_fp, \"l=\", l_fp)\n"
   ]
  },
  {
   "cell_type": "code",
   "execution_count": 38,
   "id": "95a92b41-afa6-490d-836b-6b44849c522b",
   "metadata": {},
   "outputs": [],
   "source": [
    "qids = sanitize_qids(df_work, qids)\n",
    "df_suppressed, sup_actions = suppress_small_ecs(\n",
    "    df_work, qids, min_k=TARGET_K, mode=SUPPRESS_MODE,\n",
    "    budget_frac=SUPPRESSION_BUDGET, max_mask_cols=MAX_MASK_COLS\n",
    ")\n",
    "\n",
    "qids_final = sanitize_qids(df_suppressed, qids)\n",
    "k_after_sup = k_anonymity(df_suppressed, qids_final) if qids_final else float(\"inf\")\n",
    "l_after_sup = l_diversity(df_suppressed, qids_final, sensitive_col, method=\"distinct\") if qids_final and sensitive_col else np.nan\n"
   ]
  },
  {
   "cell_type": "code",
   "execution_count": 40,
   "id": "15292135-c2ee-424e-87e4-dec8f82e178d",
   "metadata": {},
   "outputs": [
    {
     "data": {
      "image/png": "[encoded data removed]",
      "text/plain": [
       "<Figure size 600x400 with 1 Axes>"
      ]
     },
     "metadata": {},
     "output_type": "display_data"
    },
    {
     "data": {
      "image/png": "[encoded data removed]",
      "text/plain": [
       "<Figure size 600x400 with 1 Axes>"
      ]
     },
     "metadata": {},
     "output_type": "display_data"
    }
   ],
   "source": [
    "quasi_for_plots_before = sanitize_qids(df_raw, quasi_before)\n",
    "quasi_for_plots_after  = sanitize_qids(df_suppressed, qids_final)\n",
    "\n",
    "fig1 = plot_k_equivalence_hist(df_raw, quasi_for_plots_before,  title=\"k distribution — BEFORE\")\n",
    "fig2 = plot_k_equivalence_hist(df_suppressed, quasi_for_plots_after, title=\"k distribution — AFTER\")\n",
    "\n",
    "scorecard = {\n",
    "    # ...\n",
    "    \"quasi\": {\"before\": quasi_for_plots_before, \"final\": quasi_for_plots_after},\n",
    "    # ...\n",
    "}\n"
   ]
  },
  {
   "cell_type": "code",
   "execution_count": 42,
   "id": "fe26de73",
   "metadata": {},
   "outputs": [
    {
     "name": "stdout",
     "output_type": "stream",
     "text": [
      "After force-prune: ['bp_category', 'dob', 'ethnicity', 'sex', 'visit_date'] k= 97 l= 7.0\n"
     ]
    }
   ],
   "source": [
    "\n",
    "prune_log = []\n",
    "\n",
    "best = test_best_drop_for_k(df_work, qids)\n",
    "if best:\n",
    "    col, k_if_dropped = best\n",
    "    if k_if_dropped > k_anonymity(df_work, qids):\n",
    "        qids.remove(col)\n",
    "        prune_log.append(f\"drop '{col}' → k→{k_if_dropped}\")\n",
    "\n",
    "quasi_pruned_forced, k_fp, l_fp, force_log = force_prune_quasi_ids(\n",
    "    df_work, qids, target_k=TARGET_K, target_l=TARGET_L, floor=PRUNE_FLOOR, sensitive=sensitive_col\n",
    ")\n",
    "qids = quasi_pruned_forced\n",
    "prune_log += force_log\n",
    "print(\"After force-prune:\", qids, \"k=\", k_fp, \"l=\", l_fp)"
   ]
  },
  {
   "cell_type": "markdown",
   "id": "4d5f922b",
   "metadata": {},
   "source": [
    "## Smart suppression (multi‑mask + budgeted drop)"
   ]
  },
  {
   "cell_type": "code",
   "execution_count": 45,
   "id": "60b79e14",
   "metadata": {},
   "outputs": [
    {
     "name": "stdout",
     "output_type": "stream",
     "text": [
      "Suppression actions: (none)\n",
      "After suppression: k=97, l=7.0\n"
     ]
    }
   ],
   "source": [
    "\n",
    "df_suppressed, sup_actions = suppress_small_ecs(\n",
    "    df_work, qids, min_k=TARGET_K, mode=SUPPRESS_MODE, budget_frac=SUPPRESSION_BUDGET, max_mask_cols=MAX_MASK_COLS\n",
    ")\n",
    "k_after_sup = k_anonymity(df_suppressed, qids) if qids else float(\"inf\")\n",
    "l_after_sup = l_diversity(df_suppressed, qids, sensitive_col, method=\"distinct\") if sensitive_col else np.nan\n",
    "\n",
    "print(\"Suppression actions:\", sup_actions if sup_actions else \"(none)\")\n",
    "print(f\"After suppression: k={k_after_sup}, l={l_after_sup}\")"
   ]
  },
  {
   "cell_type": "markdown",
   "id": "ad880093",
   "metadata": {},
   "source": [
    "## Results, charts, and JSON output"
   ]
  },
  {
   "cell_type": "code",
   "execution_count": 48,
   "id": "99380619",
   "metadata": {},
   "outputs": [
    {
     "data": {
      "text/html": [
       "<div>\n",
       "<style scoped>\n",
       "    .dataframe tbody tr th:only-of-type {\n",
       "        vertical-align: middle;\n",
       "    }\n",
       "\n",
       "    .dataframe tbody tr th {\n",
       "        vertical-align: top;\n",
       "    }\n",
       "\n",
       "    .dataframe thead th {\n",
       "        text-align: right;\n",
       "    }\n",
       "</style>\n",
       "<table border=\"1\" class=\"dataframe\">\n",
       "  <thead>\n",
       "    <tr style=\"text-align: right;\">\n",
       "      <th></th>\n",
       "      <th>stage</th>\n",
       "      <th>k</th>\n",
       "      <th>l</th>\n",
       "      <th>direct</th>\n",
       "      <th>quasi</th>\n",
       "    </tr>\n",
       "  </thead>\n",
       "  <tbody>\n",
       "    <tr>\n",
       "      <th>0</th>\n",
       "      <td>Before</td>\n",
       "      <td>1.0</td>\n",
       "      <td>1.0</td>\n",
       "      <td>4</td>\n",
       "      <td>16</td>\n",
       "    </tr>\n",
       "    <tr>\n",
       "      <th>1</th>\n",
       "      <td>After</td>\n",
       "      <td>97.0</td>\n",
       "      <td>7.0</td>\n",
       "      <td>0</td>\n",
       "      <td>5</td>\n",
       "    </tr>\n",
       "  </tbody>\n",
       "</table>\n",
       "</div>"
      ],
      "text/plain": [
       "    stage     k    l  direct  quasi\n",
       "0  Before   1.0  1.0       4     16\n",
       "1   After  97.0  7.0       0      5"
      ]
     },
     "metadata": {},
     "output_type": "display_data"
    },
    {
     "data": {
      "image/png": "[encoded data removed]",
      "text/plain": [
       "<Figure size 600x400 with 1 Axes>"
      ]
     },
     "metadata": {},
     "output_type": "display_data"
    },
    {
     "data": {
      "image/png": "[encoded data removed]",
      "text/plain": [
       "<Figure size 600x400 with 1 Axes>"
      ]
     },
     "metadata": {},
     "output_type": "display_data"
    },
    {
     "name": "stdout",
     "output_type": "stream",
     "text": [
      "[ok] wrote → /Users/cmontefusco/Coding projects/RWE-Privacy-and-Compliance-Playbook/data/deidentification_scorecard.json\n"
     ]
    },
    {
     "name": "stderr",
     "output_type": "stream",
     "text": [
      "/var/folders/13/7kvdx7rd1n317sj3gbz9yt6w0000gn/T/ipykernel_32401/3937490874.py:26: DeprecationWarning: datetime.datetime.utcnow() is deprecated and scheduled for removal in a future version. Use timezone-aware objects to represent datetimes in UTC: datetime.datetime.now(datetime.UTC).\n",
      "  \"run_at\": datetime.utcnow().isoformat() + \"Z\"\n"
     ]
    }
   ],
   "source": [
    "\n",
    "df_final    = df_suppressed.copy()\n",
    "k_final     = k_after_sup\n",
    "l_final     = l_after_sup\n",
    "quasi_final = qids\n",
    "\n",
    "summary = pd.DataFrame([\n",
    "    {\"stage\":\"Before\",\"k\":k_before, \"l\":l_before, \"direct\":len(direct_before), \"quasi\":len(quasi_before)},\n",
    "    {\"stage\":\"After\" ,\"k\":k_final , \"l\":l_final , \"direct\":0                  , \"quasi\":len(quasi_final)}\n",
    "])\n",
    "display(summary)\n",
    "\n",
    "fig1 = plot_k_equivalence_hist(df_raw , [c for c in quasi_before if c in df_raw.columns], title=\"k distribution — BEFORE\")\n",
    "save_fig(fig1, ASSETS / \"k_hist_before.png\"); plt.show()\n",
    "\n",
    "fig2 = plot_k_equivalence_hist(df_final, [c for c in quasi_final if c in df_final.columns], title=\"k distribution — AFTER\")\n",
    "save_fig(fig2, ASSETS / \"k_hist_after.png\");  plt.show()\n",
    "\n",
    "scorecard = {\n",
    "    \"dataset\": str(DATA_FILE),\n",
    "    \"sensitive_col\": sensitive_col,\n",
    "    \"targets\": {\"k\": TARGET_K, \"l\": TARGET_L},\n",
    "    \"quasi\": {\"before\": quasi_before, \"final\": quasi_final},\n",
    "    \"before\": {\"k\": float(k_before), \"l\": float(l_before)},\n",
    "    \"after\":  {\"k\": float(k_final),  \"l\": float(l_final)},\n",
    "    \"actions\": {\"generalization\": log, \"pruning\": prune_log, \"suppression\": sup_actions},\n",
    "    \"run_at\": datetime.utcnow().isoformat() + \"Z\"\n",
    "}\n",
    "(DATA_DIR / \"deidentification_scorecard.json\").write_text(json.dumps(scorecard, indent=2))\n",
    "print(\"[ok] wrote →\", DATA_DIR / \"deidentification_scorecard.json\")"
   ]
  },
  {
   "cell_type": "markdown",
   "id": "0d9f9ebe-83db-4ea4-b960-d8c0cb1d1e3c",
   "metadata": {},
   "source": [
    "Before de-identification\n",
    "\n",
    "- k-anonymity: 1.0 → every row was uniquely identifiable by quasi-identifiers.\n",
    "\n",
    "- l-diversity: 1.0 → no diversity of sensitive values in equivalence classes.\n",
    "\n",
    "- Direct identifiers: name, email, phone, MRN, etc. still present.\n",
    "\n",
    "- Quasi-identifiers: 16 columns (dates, geography, demographics, etc.).\n",
    "\n",
    "\n",
    "After generalization + pruning\n",
    "\n",
    "- k-anonymity: 97.0 (>> target of 5 ✅)\n",
    "\n",
    "- l-diversity: 7.0 (>> target of 2 ✅)\n",
    "\n",
    "- Direct identifiers: all removed ✅\n",
    "\n",
    "- Quasi-identifiers: reduced from 16 → 5 (dob generalized, geography coarsened, payer dropped).\n",
    "\n",
    "\n",
    "Actions taken\n",
    "\n",
    "- Generalization: dates → year/quarter/decade, age bands, geo → region, bucketed rare categories.\n",
    "\n",
    "- Pruning: dropped payer (huge improvement in k).\n",
    "\n",
    "- Suppression: none needed.\n",
    "\n",
    "\n",
    "🚦 What this means\n",
    "\n",
    "- Your dataset now meets privacy thresholds (k ≥ 5, l ≥ 2).\n",
    "\n",
    "- Direct identifiers are removed.\n",
    "\n",
    "- Quasi-identifiers were reduced to a manageable set."
   ]
  }
 ],
 "metadata": {
  "kernelspec": {
   "display_name": "Python [conda env:base] *",
   "language": "python",
   "name": "conda-base-py"
  },
  "language_info": {
   "codemirror_mode": {
    "name": "ipython",
    "version": 3
   },
   "file_extension": ".py",
   "mimetype": "text/x-python",
   "name": "python",
   "nbconvert_exporter": "python",
   "pygments_lexer": "ipython3",
   "version": "3.12.7"
  }
 },
 "nbformat": 4,
 "nbformat_minor": 5
}
