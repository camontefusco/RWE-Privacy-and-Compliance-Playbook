{
 "cells": [
  {
   "cell_type": "markdown",
   "id": "41c3ea0c",
   "metadata": {},
   "source": [
    "\n",
    "# 02 · De‑identification Scorecard (k‑anonymity, l‑diversity)\n",
    "\n",
    "This notebook takes the identifier scan from **Notebook 01** and demonstrates a **before → after** de‑identification workflow:\n",
    "- Apply simple generalizations (dates → year, ZIP → ZIP3, bucket rare categories)\n",
    "- Recompute **k‑anonymity** and **l‑diversity**\n",
    "- Produce a **scorecard** and **visuals** to show improvement\n",
    "- Save `data/deidentification_scorecard.json` for downstream compliance & ROI\n"
   ]
  },
  {
   "cell_type": "code",
   "execution_count": null,
   "id": "31d964ff",
   "metadata": {},
   "outputs": [],
   "source": [
    "\n",
    "import os, json, pandas as pd, numpy as np, matplotlib.pyplot as plt\n",
    "from pathlib import Path\n",
    "import sys\n",
    "\n",
    "# Import project modules\n",
    "repo_root = Path.cwd()\n",
    "if (repo_root / \"notebooks\").exists():\n",
    "    scripts_dir = repo_root / \"scripts\"\n",
    "    visuals_dir = repo_root / \"visuals\"\n",
    "else:\n",
    "    repo_root = Path.cwd().parent\n",
    "    scripts_dir = repo_root / \"scripts\"\n",
    "    visuals_dir = repo_root / \"visuals\"\n",
    "for p in (scripts_dir, visuals_dir):\n",
    "    if str(p) not in sys.path:\n",
    "        sys.path.append(str(p))\n",
    "\n",
    "from scripts.privacy_checks import (\n",
    "    load_dataset, build_privacy_report, detect_direct_identifiers,\n",
    "    detect_quasi_identifiers, k_anonymity, l_diversity, suggest_generalization\n",
    ")\n",
    "from visuals.privacy_plots import plot_k_equivalence_hist, save_fig\n",
    "\n",
    "DATA_DIR = repo_root / \"data\"\n",
    "ASSETS = repo_root / \"reports\" / \"assets\"\n",
    "DATA_DIR.mkdir(exist_ok=True, parents=True)\n",
    "ASSETS.mkdir(exist_ok=True, parents=True)\n",
    "\n",
    "print(\"Environment ready.\")\n",
    "print(\"repo_root =\", repo_root)\n"
   ]
  },
  {
   "cell_type": "markdown",
   "id": "da0fb0cb",
   "metadata": {},
   "source": [
    "\n",
    "## Load dataset\n",
    "\n",
    "We reuse the **sample** dataset by default. You can point `DATA_FILE` to your own CSV/Parquet.\n"
   ]
  },
  {
   "cell_type": "code",
   "execution_count": null,
   "id": "1085f70e",
   "metadata": {},
   "outputs": [],
   "source": [
    "\n",
    "DATA_FILE = DATA_DIR / \"sample_synthetic.csv\"  # change to your own file if desired\n",
    "\n",
    "if DATA_FILE.exists():\n",
    "    df_raw = load_dataset(DATA_FILE)\n",
    "    print(f\"[info] Loaded {DATA_FILE} shape={df_raw.shape}\")\n",
    "else:\n",
    "    print(\"[warn] sample_synthetic.csv missing — creating a tiny synthetic frame in-memory.\")\n",
    "    df_raw = pd.DataFrame({\n",
    "        \"patient_id\": [1,2,3,4,5,6,7,8],\n",
    "        \"birth_date\": [\"1980-01-01\",\"1980-02-10\",\"1978-05-03\",\"1990-07-21\",\"1985-10-12\",\"1972-03-30\",\"1972-03-30\",\"1972-03-30\"],\n",
    "        \"zip_code\": [\"94110\",\"94110\",\"02139\",\"02139\",\"10027\",\"10027\",\"10027\",\"10027\"],\n",
    "        \"sex\": [\"F\",\"F\",\"M\",\"M\",\"F\",\"F\",\"M\",\"M\"],\n",
    "        \"condition\": [\"Diabetes\",\"Hypertension\",\"Asthma\",\"Cancer\",\"COPD\",\"Diabetes\",\"Asthma\",\"COPD\"],\n",
    "        \"visit_date\": [\"2022-03-10\",\"2022-03-10\",\"2022-03-11\",\"2022-03-11\",\"2022-03-12\",\"2022-03-13\",\"2022-03-13\",\"2022-03-14\"],\n",
    "        \"lab_result\": [7.1,\"130/85\",\"Mild\",\"Stage II\",\"FEV1=65%\",\"7.4\",\"Moderate\",\"FEV1=60%\"]\n",
    "    })\n",
    "    print(f\"[info] Created synthetic df_raw shape={df_raw.shape}\")\n",
    "\n",
    "display(df_raw.head())\n"
   ]
  },
  {
   "cell_type": "markdown",
   "id": "29608815",
   "metadata": {},
   "source": [
    "\n",
    "## Baseline (BEFORE) metrics\n",
    "We detect identifiers and compute baseline **k** and **l**.\n"
   ]
  },
  {
   "cell_type": "code",
   "execution_count": null,
   "id": "b20d4d04",
   "metadata": {},
   "outputs": [],
   "source": [
    "\n",
    "SENSITIVE_COL = \"condition\" if \"condition\" in df_raw.columns else None\n",
    "\n",
    "direct_before = detect_direct_identifiers(df_raw)\n",
    "quasi_before  = detect_quasi_identifiers(df_raw)\n",
    "\n",
    "k_before = k_anonymity(df_raw, quasi_before)\n",
    "l_before = l_diversity(df_raw, quasi_before, SENSITIVE_COL, method=\"distinct\") if SENSITIVE_COL else np.nan\n",
    "\n",
    "report_before = build_privacy_report(df_raw, sensitive_col=SENSITIVE_COL, quasi_override=sorted(quasi_before))\n",
    "print(\"Direct (before):\", sorted(direct_before) if direct_before else \"None\")\n",
    "print(\"Quasi  (before):\", sorted(quasi_before) if quasi_before else \"None\")\n",
    "print(f\"k (before)={k_before}, l (before)={l_before}\")\n",
    "report_before\n"
   ]
  },
  {
   "cell_type": "markdown",
   "id": "3b4e20f0",
   "metadata": {},
   "source": [
    "\n",
    "## Apply simple de‑identification transforms\n",
    "\n",
    "- **Dates → year** (or year-month)  \n",
    "- **ZIP → ZIP3**  \n",
    "- **Bucket rare categories** in high-cardinality columns  \n",
    "- **Drop obvious direct identifiers** if present\n"
   ]
  },
  {
   "cell_type": "code",
   "execution_count": null,
   "id": "9486ec78",
   "metadata": {},
   "outputs": [],
   "source": [
    "\n",
    "df_after = df_raw.copy()\n",
    "\n",
    "# 1) Generalize date-like columns\n",
    "date_cols = [c for c in df_after.columns if (\"date\" in c.lower()) or (\"birth\" in c.lower()) or (\"dob\" in c.lower())]\n",
    "for c in date_cols:\n",
    "    try:\n",
    "        s = pd.to_datetime(df_after[c], errors=\"coerce\")\n",
    "        # Use year granularity by default\n",
    "        df_after[c] = s.dt.year.astype(\"Int64\")\n",
    "    except Exception:\n",
    "        pass\n",
    "\n",
    "# 2) ZIP -> ZIP3\n",
    "zip_like = [c for c in df_after.columns if \"zip\" in c.lower() or \"postal\" in c.lower()]\n",
    "for c in zip_like:\n",
    "    df_after[c] = df_after[c].astype(str).str[:3]\n",
    "\n",
    "# 3) Bucket rare categories for object columns with many unique values\n",
    "for c in df_after.columns:\n",
    "    if df_after[c].dtype == \"object\":\n",
    "        vc = df_after[c].value_counts(dropna=True)\n",
    "        if len(vc) > 10:\n",
    "            top = set(vc.head(10).index.tolist())\n",
    "            df_after[c] = df_after[c].where(df_after[c].isin(top), other=\"Other\")\n",
    "\n",
    "# 4) Drop direct identifiers if any were detected\n",
    "to_drop = [c for c in direct_before if c in df_after.columns]\n",
    "if to_drop:\n",
    "    df_after = df_after.drop(columns=to_drop)\n",
    "\n",
    "print(\"Applied generalizations. Preview:\")\n",
    "display(df_after.head())\n"
   ]
  },
  {
   "cell_type": "markdown",
   "id": "69b1f3df",
   "metadata": {},
   "source": [
    "\n",
    "## Recompute (AFTER) metrics\n"
   ]
  },
  {
   "cell_type": "code",
   "execution_count": null,
   "id": "f373ef52",
   "metadata": {},
   "outputs": [],
   "source": [
    "\n",
    "direct_after = detect_direct_identifiers(df_after)\n",
    "quasi_after  = detect_quasi_identifiers(df_after)\n",
    "\n",
    "k_after = k_anonymity(df_after, quasi_after)\n",
    "l_after = l_diversity(df_after, quasi_after, SENSITIVE_COL, method=\"distinct\") if SENSITIVE_COL else np.nan\n",
    "\n",
    "report_after = build_privacy_report(df_after, sensitive_col=SENSITIVE_COL, quasi_override=sorted(quasi_after))\n",
    "\n",
    "summary = pd.DataFrame([\n",
    "    {\"stage\":\"Before\",\"k\":k_before, \"l\":l_before, \"direct\":len(direct_before), \"quasi\":len(quasi_before)},\n",
    "    {\"stage\":\"After\" ,\"k\":k_after , \"l\":l_after , \"direct\":len(direct_after) , \"quasi\":len(quasi_after)}\n",
    "])\n",
    "summary\n"
   ]
  },
  {
   "cell_type": "markdown",
   "id": "0b487475",
   "metadata": {},
   "source": [
    "\n",
    "## Visuals\n",
    "\n",
    "k‑anonymity **equivalence class size** distributions before and after.\n"
   ]
  },
  {
   "cell_type": "code",
   "execution_count": null,
   "id": "f8c98ddc",
   "metadata": {},
   "outputs": [],
   "source": [
    "\n",
    "fig1 = plot_k_equivalence_hist(df_raw, quasi_before, title=\"k distribution — BEFORE\")\n",
    "p1 = save_fig(fig1, ASSETS / \"k_hist_before.png\")\n",
    "plt.show(); print(\"[ok]\", p1)\n",
    "\n",
    "fig2 = plot_k_equivalence_hist(df_after, quasi_after, title=\"k distribution — AFTER\")\n",
    "p2 = save_fig(fig2, ASSETS / \"k_hist_after.png\")\n",
    "plt.show(); print(\"[ok]\", p2)\n"
   ]
  },
  {
   "cell_type": "markdown",
   "id": "6966e244",
   "metadata": {},
   "source": [
    "\n",
    "## Save scorecard JSON\n",
    "\n",
    "Writes `data/deidentification_scorecard.json` with before/after metrics and the suggested generalizations.\n"
   ]
  },
  {
   "cell_type": "code",
   "execution_count": null,
   "id": "da1bc6f2",
   "metadata": {},
   "outputs": [],
   "source": [
    "\n",
    "scorecard = {\n",
    "    \"sensitive_col\": SENSITIVE_COL,\n",
    "    \"before\": report_before,\n",
    "    \"after\": report_after,\n",
    "    \"delta\": {\n",
    "        \"k\": float(k_after) - float(k_before),\n",
    "        \"l\": float(l_after) - float(l_before) if not pd.isna(l_before) and not pd.isna(l_after) else None,\n",
    "        \"direct_removed\": max(0, len(direct_before) - len(direct_after))\n",
    "    }\n",
    "}\n",
    "\n",
    "out_json = DATA_DIR / \"deidentification_scorecard.json\"\n",
    "out_json.write_text(json.dumps(scorecard, indent=2))\n",
    "print(f\"[ok] wrote → {out_json}\")\n"
   ]
  },
  {
   "cell_type": "markdown",
   "id": "97fb6842",
   "metadata": {},
   "source": [
    "\n",
    "## How to use this\n",
    "\n",
    "- If **k < 5** or **l < 2**, increase generalization (e.g., dates to year-month, widen geography, bucket categories).  \n",
    "- Re-run this notebook until metrics meet your risk posture.  \n",
    "- Use the JSON output in:\n",
    "  - `03_jurisdictional_compliance_matrix.ipynb` (HIPAA/GDPR pass/fail + DUA gates)  \n",
    "  - `04_privacy_risk_to_roi.ipynb` (translate improvements to business value)  \n",
    "  - `scripts/report_builder.py` (embed visuals + tables into a PDF)  \n"
   ]
  }
 ],
 "metadata": {},
 "nbformat": 4,
 "nbformat_minor": 5
}
