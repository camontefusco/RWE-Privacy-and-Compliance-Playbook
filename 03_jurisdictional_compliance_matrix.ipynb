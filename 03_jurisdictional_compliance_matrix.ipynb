{
 "cells": [
  {
   "cell_type": "markdown",
   "id": "884ff88f",
   "metadata": {},
   "source": [
    "\n",
    "# 03 · Jurisdictional Compliance Matrix (HIPAA / GDPR / DUA)\n",
    "\n",
    "This notebook converts privacy metrics into **policy readiness** across jurisdictions:\n",
    "\n",
    "- **HIPAA Safe Harbor** (name-based direct identifier scan)\n",
    "- **GDPR anonymization** (risk checklist: low k, sub-year dates, geo precision, direct IDs)\n",
    "- **DUA policy gates** (purpose limitation, retention, region, third parties)\n",
    "\n",
    "**Outputs**\n",
    "- `data/privacy_compliance_report.json` → consolidated compliance results\n",
    "- Optional visuals (bar chart) saved to `reports/assets/`\n"
   ]
  },
  {
   "cell_type": "code",
   "execution_count": null,
   "id": "391629d3",
   "metadata": {},
   "outputs": [],
   "source": [
    "\n",
    "import os, json, pandas as pd, numpy as np, matplotlib.pyplot as plt\n",
    "from pathlib import Path\n",
    "import sys\n",
    "\n",
    "# Import project modules\n",
    "repo_root = Path.cwd()\n",
    "if (repo_root / \"notebooks\").exists():\n",
    "    scripts_dir = repo_root / \"scripts\"\n",
    "    visuals_dir = repo_root / \"visuals\"\n",
    "else:\n",
    "    repo_root = Path.cwd().parent\n",
    "    scripts_dir = repo_root / \"scripts\"\n",
    "    visuals_dir = repo_root / \"visuals\"\n",
    "for p in (scripts_dir, visuals_dir):\n",
    "    if str(p) not in sys.path:\n",
    "        sys.path.append(str(p))\n",
    "\n",
    "from scripts.privacy_checks import load_dataset, detect_direct_identifiers, detect_quasi_identifiers\n",
    "from scripts.compliance_matrix import build_compliance_report\n",
    "from visuals.privacy_plots import plot_compliance_bar, save_fig\n",
    "\n",
    "DATA_DIR = repo_root / \"data\"\n",
    "ASSETS = repo_root / \"reports\" / \"assets\"\n",
    "DATA_DIR.mkdir(exist_ok=True, parents=True)\n",
    "ASSETS.mkdir(exist_ok=True, parents=True)\n",
    "\n",
    "print(\"Environment ready.\")\n",
    "print(\"repo_root =\", repo_root)\n"
   ]
  },
  {
   "cell_type": "markdown",
   "id": "19e233e8",
   "metadata": {},
   "source": [
    "\n",
    "## Inputs\n",
    "\n",
    "This notebook uses either:\n",
    "- The dataset from prior steps (`data/sample_synthetic.csv` by default), or\n",
    "- Your own dataset if you change `DATA_FILE` below.\n",
    "\n",
    "It also **benefits** from the identifier scan in Notebook 01 (for direct/quasi identification), but will recompute if needed.\n"
   ]
  },
  {
   "cell_type": "code",
   "execution_count": null,
   "id": "d20ca883",
   "metadata": {},
   "outputs": [],
   "source": [
    "\n",
    "DATA_FILE = DATA_DIR / \"sample_synthetic.csv\"  # change to your dataset if desired\n",
    "\n",
    "# Try to load dataset\n",
    "if DATA_FILE.exists():\n",
    "    df = load_dataset(DATA_FILE)\n",
    "    print(f\"[info] Loaded dataset: {DATA_FILE} shape={df.shape}\")\n",
    "else:\n",
    "    print(\"[warn] sample_synthetic.csv missing — creating a tiny synthetic frame in-memory.\")\n",
    "    df = pd.DataFrame({\n",
    "        \"patient_id\": [1,2,3,4,5,6,7,8],\n",
    "        \"birth_date\": [\"1980-01-01\",\"1980-02-10\",\"1978-05-03\",\"1990-07-21\",\"1985-10-12\",\"1972-03-30\",\"1972-03-30\",\"1972-03-30\"],\n",
    "        \"zip_code\": [\"94110\",\"94110\",\"02139\",\"02139\",\"10027\",\"10027\",\"10027\",\"10027\"],\n",
    "        \"sex\": [\"F\",\"F\",\"M\",\"M\",\"F\",\"F\",\"M\",\"M\"],\n",
    "        \"condition\": [\"Diabetes\",\"Hypertension\",\"Asthma\",\"Cancer\",\"COPD\",\"Diabetes\",\"Asthma\",\"COPD\"],\n",
    "        \"visit_date\": [\"2022-03-10\",\"2022-03-10\",\"2022-03-11\",\"2022-03-11\",\"2022-03-12\",\"2022-03-13\",\"2022-03-13\",\"2022-03-14\"],\n",
    "        \"lab_result\": [7.1,\"130/85\",\"Mild\",\"Stage II\",\"FEV1=65%\",\"7.4\",\"Moderate\",\"FEV1=60%\"]\n",
    "    })\n",
    "    print(f\"[info] Created synthetic df shape={df.shape}\")\n",
    "\n",
    "display(df.head())\n"
   ]
  },
  {
   "cell_type": "markdown",
   "id": "8de8b1ea",
   "metadata": {},
   "source": [
    "\n",
    "## Identify direct & quasi-identifiers\n",
    "\n",
    "We’ll reuse the same heuristics from Notebook 01. These inform GDPR risk checks and DUA guidance.\n"
   ]
  },
  {
   "cell_type": "code",
   "execution_count": null,
   "id": "adf98afd",
   "metadata": {},
   "outputs": [],
   "source": [
    "\n",
    "direct = detect_direct_identifiers(df)\n",
    "quasi  = detect_quasi_identifiers(df)\n",
    "\n",
    "print(\"Direct identifiers:\", sorted(direct) if direct else \"None\")\n",
    "print(\"Quasi-identifiers :\", sorted(quasi) if quasi else \"None\")\n"
   ]
  },
  {
   "cell_type": "markdown",
   "id": "466df21c",
   "metadata": {},
   "source": [
    "\n",
    "## DUA policy flags (configure for your project)\n",
    "\n",
    "These represent organizational policy gates often required before data sharing/processing.  \n",
    "Set to **True** when satisfied.\n"
   ]
  },
  {
   "cell_type": "code",
   "execution_count": null,
   "id": "91ac2936",
   "metadata": {},
   "outputs": [],
   "source": [
    "\n",
    "DUA_FLAGS = {\n",
    "    \"purpose_limited\": True,     # The use case is clearly defined and limited\n",
    "    \"retention_defined\": True,   # Retention period and deletion policy are documented\n",
    "    \"in_region\": True,           # Data stored/processed in allowed regions\n",
    "    \"third_party_vetted\": False  # Third-party processors have been assessed\n",
    "}\n",
    "DUA_FLAGS\n"
   ]
  },
  {
   "cell_type": "markdown",
   "id": "7320e5d8",
   "metadata": {},
   "source": [
    "\n",
    "## Build the compliance report\n",
    "\n",
    "This aggregates HIPAA Safe Harbor, GDPR risk checklist, and DUA gates into a single object.\n"
   ]
  },
  {
   "cell_type": "code",
   "execution_count": null,
   "id": "531890aa",
   "metadata": {},
   "outputs": [],
   "source": [
    "\n",
    "compliance = build_compliance_report(df, quasi_cols=quasi, direct_cols=direct, dua_flags=DUA_FLAGS)\n",
    "\n",
    "out_json = DATA_DIR / \"privacy_compliance_report.json\"\n",
    "out_json.write_text(json.dumps(compliance, indent=2))\n",
    "print(f\"[ok] wrote → {out_json}\")\n",
    "\n",
    "# Preview\n",
    "compliance\n"
   ]
  },
  {
   "cell_type": "markdown",
   "id": "98846691",
   "metadata": {},
   "source": [
    "\n",
    "## Visual: Compliance Readiness\n",
    "\n",
    "A compact bar chart summarizing HIPAA pass/fail, GDPR risk normalization, DUA score, and overall index.\n"
   ]
  },
  {
   "cell_type": "code",
   "execution_count": null,
   "id": "84613796",
   "metadata": {},
   "outputs": [],
   "source": [
    "\n",
    "fig = plot_compliance_bar(compliance, title=\"Compliance Readiness (HIPAA / GDPR / DUA / Index)\")\n",
    "out = save_fig(fig, ASSETS / \"compliance_bar.png\")\n",
    "plt.show()\n",
    "print(\"[ok] saved:\", out)\n"
   ]
  },
  {
   "cell_type": "markdown",
   "id": "e2a059dd",
   "metadata": {},
   "source": [
    "\n",
    "## How to interpret\n",
    "\n",
    "- **HIPAA (PASS/REVIEW)** → `REVIEW` means column names suggest direct identifiers present; remove/suppress before sharing.  \n",
    "- **GDPR (Risk index)** → lower is better. High risk often means sub‑year dates, precise geo, or direct IDs.  \n",
    "- **DUA score** → % of gates satisfied; incomplete gates block sharing until addressed.  \n",
    "- **Compliance index** → a simple weighted roll‑up (US/EU/DUA). Use as a directional guide, not a regulatory verdict.\n"
   ]
  },
  {
   "cell_type": "markdown",
   "id": "74fc1ddc",
   "metadata": {},
   "source": [
    "\n",
    "## Compact dashboard table\n"
   ]
  },
  {
   "cell_type": "code",
   "execution_count": null,
   "id": "6c0d9440",
   "metadata": {},
   "outputs": [],
   "source": [
    "\n",
    "hipaa = compliance.get(\"hipaa\", {})\n",
    "gdpr  = compliance.get(\"gdpr\", {})\n",
    "jur   = compliance.get(\"jurisdictions\", {})\n",
    "dua   = (jur.get(\"DUA\") or {})\n",
    "\n",
    "dash = pd.DataFrame([{\n",
    "    \"HIPAA_pass\": hipaa.get(\"pass\"),\n",
    "    \"GDPR_risk_index\": gdpr.get(\"risk_index\"),\n",
    "    \"DUA_score\": dua.get(\"score\"),\n",
    "    \"Compliance_index\": jur.get(\"compliance_index\")\n",
    "}])\n",
    "dash\n"
   ]
  },
  {
   "cell_type": "markdown",
   "id": "025df0b5",
   "metadata": {},
   "source": [
    "\n",
    "## Next steps\n",
    "\n",
    "- If **HIPAA=REVIEW** → drop or transform flagged direct identifiers (Notebook 02 has generalization patterns).  \n",
    "- If **GDPR risk index ≥ 0.33** → coarsen dates to year or month; reduce geo precision; verify no direct identifiers remain.  \n",
    "- If **DUA < 1** → work with Legal/Data Stewardship to satisfy missing gates (purpose, retention, region, third parties).  \n",
    "- Finally, pass results to **Notebook 04** to link compliance posture to **ROI** and auto‑build a **PDF report**.\n"
   ]
  }
 ],
 "metadata": {},
 "nbformat": 4,
 "nbformat_minor": 5
}
