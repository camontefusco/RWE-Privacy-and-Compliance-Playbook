{
 "cells": [
  {
   "cell_type": "markdown",
   "id": "39a2801e",
   "metadata": {},
   "source": [
    "\n",
    "# 01 · Privacy Quasi-Identifier Scan (Rewired)\n",
    "\n",
    "This notebook is the **starting point**. It scans a dataset for **direct** and **quasi-identifiers**, computes **k‑anonymity** and **l‑diversity**, and saves a JSON summary used by the rest of the workflow.\n",
    "\n",
    "**You will get:**\n",
    "- A quick schema profile and sample rows\n",
    "- A list of **direct** vs **quasi-identifiers**\n",
    "- **k-anonymity**, **l-diversity**, and overall **risk** score\n",
    "- Visuals saved to `reports/assets/`\n",
    "- `data/privacy_report.json` for downstream notebooks\n"
   ]
  },
  {
   "cell_type": "code",
   "execution_count": null,
   "id": "5e6fbbec",
   "metadata": {},
   "outputs": [],
   "source": [
    "\n",
    "import os, json, pandas as pd, numpy as np, matplotlib.pyplot as plt\n",
    "from pathlib import Path\n",
    "import sys\n",
    "\n",
    "# Ensure project modules are importable from scripts/ and visuals/\n",
    "repo_root = Path.cwd()\n",
    "if (repo_root / \"notebooks\").exists():\n",
    "    scripts_dir = repo_root / \"scripts\"\n",
    "    visuals_dir = repo_root / \"visuals\"\n",
    "else:\n",
    "    # If launched inside notebooks/, go up one level\n",
    "    repo_root = Path.cwd().parent\n",
    "    scripts_dir = repo_root / \"scripts\"\n",
    "    visuals_dir = repo_root / \"visuals\"\n",
    "for p in (scripts_dir, visuals_dir):\n",
    "    if str(p) not in sys.path:\n",
    "        sys.path.append(str(p))\n",
    "\n",
    "from scripts.privacy_checks import (\n",
    "    load_dataset, build_privacy_report, detect_direct_identifiers,\n",
    "    detect_quasi_identifiers, k_anonymity, l_diversity, infer_column_roles\n",
    ")\n",
    "from visuals.privacy_plots import plot_identifier_heatmap, plot_k_equivalence_hist, save_fig\n",
    "\n",
    "DATA_DIR = repo_root / \"data\"\n",
    "ASSETS = repo_root / \"reports\" / \"assets\"\n",
    "DATA_DIR.mkdir(exist_ok=True, parents=True)\n",
    "ASSETS.mkdir(exist_ok=True, parents=True)\n",
    "\n",
    "print(\"Environment ready.\")\n",
    "print(\"repo_root =\", repo_root)\n"
   ]
  },
  {
   "cell_type": "markdown",
   "id": "fad42d83",
   "metadata": {},
   "source": [
    "\n",
    "## 🔧 Configure\n",
    "\n",
    "- Place your CSV/Parquet in `data/` and set `DATA_FILE` below.  \n",
    "- If not provided, we **auto‑load** `data/sample_synthetic.csv` (included).  \n",
    "- Optionally set a **sensitive column** (e.g., diagnosis, outcome) to compute **l‑diversity**.\n"
   ]
  },
  {
   "cell_type": "code",
   "execution_count": null,
   "id": "0ca5e523",
   "metadata": {},
   "outputs": [],
   "source": [
    "\n",
    "# Path to your dataset (CSV or Parquet). Leave as default to use the toy sample.\n",
    "DATA_FILE = DATA_DIR / \"sample_synthetic.csv\"   # <-- change to e.g., DATA_DIR / \"my_extract.csv\"\n",
    "\n",
    "# Sensitive column used for l-diversity (optional, can be None).\n",
    "# Common choices: 'condition', 'diagnosis', 'outcome', 'lab_result', etc.\n",
    "SENSITIVE_COL = \"condition\"\n"
   ]
  },
  {
   "cell_type": "markdown",
   "id": "98784bcb",
   "metadata": {},
   "source": [
    "\n",
    "## 📥 Load dataset\n"
   ]
  },
  {
   "cell_type": "code",
   "execution_count": null,
   "id": "78b94a8d",
   "metadata": {},
   "outputs": [],
   "source": [
    "\n",
    "if DATA_FILE.exists():\n",
    "    df = load_dataset(DATA_FILE)\n",
    "    print(f\"[info] Loaded dataset → {DATA_FILE}  shape={df.shape}\")\n",
    "else:\n",
    "    print(f\"[warn] {DATA_FILE} not found; creating a tiny synthetic dataframe in-memory.\")\n",
    "    df = pd.DataFrame({\n",
    "        \"patient_id\": [1,2,3,4,5,6,7,8,9,10],\n",
    "        \"birth_date\": [\"1980-01-01\",\"1979-05-12\",\"1988-07-03\",\"1975-09-21\",\"1992-11-30\",\n",
    "                       \"1981-04-10\",\"1978-12-02\",\"1990-01-14\",\"1977-06-25\",\"1985-03-17\"],\n",
    "        \"zip_code\": [\"94110\",\"94110\",\"02139\",\"02139\",\"10027\",\"10027\",\"60616\",\"60616\",\"30303\",\"30303\"],\n",
    "        \"sex\": [\"F\",\"M\",\"F\",\"M\",\"F\",\"M\",\"F\",\"M\",\"F\",\"M\"],\n",
    "        \"condition\": [\"Diabetes\",\"Hypertension\",\"Asthma\",\"Cancer\",\"COPD\",\"Diabetes\",\"Asthma\",\"Cancer\",\"COPD\",\"Hypertension\"],\n",
    "        \"visit_date\": [\"2022-03-10\",\"2022-03-10\",\"2022-03-11\",\"2022-03-11\",\"2022-03-12\",\n",
    "                       \"2022-03-12\",\"2022-03-13\",\"2022-03-13\",\"2022-03-14\",\"2022-03-14\"],\n",
    "        \"lab_result\": [7.1,\"130/85\",\"Mild\",\"Stage II\",\"FEV1=65%\",\"7.4\",\"Moderate\",\"Stage I\",\"FEV1=60%\",\"140/90\"]\n",
    "    })\n",
    "    print(f\"[info] Created synthetic df shape={df.shape}\")\n",
    "\n",
    "# Keep SENSITIVE_COL only if present; else disable l-diversity\n",
    "if SENSITIVE_COL not in df.columns:\n",
    "    print(f\"[note] Sensitive column '{SENSITIVE_COL}' not found; l-diversity will be skipped.\")\n",
    "    SENSITIVE_COL = None\n",
    "\n",
    "display(df.head())\n"
   ]
  },
  {
   "cell_type": "markdown",
   "id": "6db50a9e",
   "metadata": {},
   "source": [
    "\n",
    "## 🧭 Schema quick‑look\n"
   ]
  },
  {
   "cell_type": "code",
   "execution_count": null,
   "id": "cd8a6678",
   "metadata": {},
   "outputs": [],
   "source": [
    "\n",
    "print(\"Columns:\", list(df.columns))\n",
    "print(\"Shape:\", df.shape)\n",
    "display(df.describe(include='all').T.head(20))\n",
    "\n",
    "roles = infer_column_roles(df)\n",
    "print(\"\\nInferred roles:\")\n",
    "for k,v in roles.items():\n",
    "    print(f\"  - {k}: {v}\")\n"
   ]
  },
  {
   "cell_type": "markdown",
   "id": "44fb4af2",
   "metadata": {},
   "source": [
    "\n",
    "## 🔎 Identifier scan\n",
    "Detect **direct identifiers** (e.g., names, MRN, email) and **quasi-identifiers** (dates, ZIP, small‑area geos, demographics).\n"
   ]
  },
  {
   "cell_type": "code",
   "execution_count": null,
   "id": "80c22056",
   "metadata": {},
   "outputs": [],
   "source": [
    "\n",
    "direct = detect_direct_identifiers(df)\n",
    "quasi  = detect_quasi_identifiers(df)\n",
    "\n",
    "print(\"Direct identifiers:\", sorted(direct) if direct else \"None\")\n",
    "print(\"Quasi-identifiers :\", sorted(quasi) if quasi else \"None\")\n"
   ]
  },
  {
   "cell_type": "markdown",
   "id": "5cc7c45a",
   "metadata": {},
   "source": [
    "\n",
    "## 📏 Privacy metrics\n",
    "Compute **k‑anonymity** and **l‑diversity** (if sensitive column provided). The full report is saved for later steps.\n"
   ]
  },
  {
   "cell_type": "code",
   "execution_count": null,
   "id": "e920d275",
   "metadata": {},
   "outputs": [],
   "source": [
    "\n",
    "k_val = k_anonymity(df, quasi)\n",
    "l_val = l_diversity(df, quasi, SENSITIVE_COL, method=\"distinct\") if SENSITIVE_COL else np.nan\n",
    "\n",
    "report = build_privacy_report(\n",
    "    df,\n",
    "    sensitive_col=SENSITIVE_COL,\n",
    "    quasi_override=sorted(quasi) if quasi else None\n",
    ")\n",
    "\n",
    "# Save JSON\n",
    "privacy_json = DATA_DIR / \"privacy_report.json\"\n",
    "privacy_json.write_text(json.dumps(report, indent=2))\n",
    "print(f\"[ok] Wrote → {privacy_json}\")\n",
    "\n",
    "pd.DataFrame([{\n",
    "    \"k_anonymity\": k_val,\n",
    "    \"l_diversity\": l_val if not pd.isna(l_val) else None,\n",
    "    \"direct_identifiers\": \", \".join(sorted(direct)) if direct else \"None\",\n",
    "    \"quasi_identifiers\": \", \".join(sorted(quasi)) if quasi else \"None\"\n",
    "}])\n"
   ]
  },
  {
   "cell_type": "markdown",
   "id": "e81b2809",
   "metadata": {},
   "source": [
    "\n",
    "## 📈 Visuals\n",
    "We save charts into `reports/assets/` for embedding in the final PDF.\n"
   ]
  },
  {
   "cell_type": "code",
   "execution_count": null,
   "id": "ae78b0a7",
   "metadata": {},
   "outputs": [],
   "source": [
    "\n",
    "# Identifier map (direct vs quasi)\n",
    "fig1 = plot_identifier_heatmap(df.columns, direct, quasi)\n",
    "p1 = save_fig(fig1, ASSETS / \"identifier_map.png\")\n",
    "plt.show(); print(\"[ok] saved:\", p1)\n",
    "\n",
    "# k-anonymity equivalence class histogram\n",
    "fig2 = plot_k_equivalence_hist(df, quasi)\n",
    "p2 = save_fig(fig2, ASSETS / \"k_hist.png\")\n",
    "plt.show(); print(\"[ok] saved:\", p2)\n"
   ]
  },
  {
   "cell_type": "markdown",
   "id": "7b3f1664",
   "metadata": {},
   "source": [
    "\n",
    "## ✅ What to do next\n",
    "\n",
    "- If **direct identifiers** were detected → drop or replace them before sharing data.  \n",
    "- If **k < 5** or **l < 2**, increase generalization (dates → year/month, ZIP → ZIP3, bucket rare categories).  \n",
    "- Continue to **02_deidentification_scorecard.ipynb** to apply generalizations and compare **before → after**.  \n",
    "- `privacy_report.json` you just created will be used by **03 (Compliance)** and **04 (ROI + Report)**.\n"
   ]
  }
 ],
 "metadata": {
  "kernelspec": {
   "display_name": "Python [conda env:base] *",
   "language": "python",
   "name": "conda-base-py"
  },
  "language_info": {
   "codemirror_mode": {
    "name": "ipython",
    "version": 3
   },
   "file_extension": ".py",
   "mimetype": "text/x-python",
   "name": "python",
   "nbconvert_exporter": "python",
   "pygments_lexer": "ipython3",
   "version": "3.12.7"
  }
 },
 "nbformat": 4,
 "nbformat_minor": 5
}
