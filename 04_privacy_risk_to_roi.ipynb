{
 "cells": [
  {
   "cell_type": "markdown",
   "id": "fe7d0969",
   "metadata": {},
   "source": [
    "\n",
    "# 04 · Privacy Risk → ROI & Final Report\n",
    "\n",
    "This notebook links compliance posture to **business impact** and builds a **leadership‑ready PDF**:\n",
    "\n",
    "- Load privacy & compliance JSONs from Notebooks 01–03  \n",
    "- Configure **program economics** and **safeguard bundle**  \n",
    "- Compute **ROI** of safeguards (avoided losses + time‑to‑market)  \n",
    "- Run **one‑way sensitivity** (probability of incident, effectiveness)  \n",
    "- Auto‑generate **`reports/privacy_compliance_report.pdf`** with charts\n"
   ]
  },
  {
   "cell_type": "code",
   "execution_count": null,
   "id": "7a4072ab",
   "metadata": {},
   "outputs": [],
   "source": [
    "\n",
    "import os, json, pandas as pd, numpy as np, matplotlib.pyplot as plt\n",
    "from pathlib import Path\n",
    "import sys\n",
    "\n",
    "# Import project modules\n",
    "repo_root = Path.cwd()\n",
    "if (repo_root / \"notebooks\").exists():\n",
    "    scripts_dir = repo_root / \"scripts\"\n",
    "    visuals_dir = repo_root / \"visuals\"\n",
    "else:\n",
    "    repo_root = Path.cwd().parent\n",
    "    scripts_dir = repo_root / \"scripts\"\n",
    "    visuals_dir = repo_root / \"visuals\"\n",
    "for p in (scripts_dir, visuals_dir):\n",
    "    if str(p) not in sys.path:\n",
    "        sys.path.append(str(p))\n",
    "\n",
    "from scripts.roi_privacy import PrivacyScenario, SafeguardBundle, roi_summary, sensitivity\n",
    "from scripts.report_builder import build_privacy_pdf, ReportPaths\n",
    "\n",
    "DATA_DIR = repo_root / \"data\"\n",
    "REPORTS = repo_root / \"reports\"\n",
    "ASSETS = REPORTS / \"assets\"\n",
    "for d in (DATA_DIR, REPORTS, ASSETS):\n",
    "    d.mkdir(exist_ok=True, parents=True)\n",
    "\n",
    "print(\"Environment ready.\")\n",
    "print(\"repo_root =\", repo_root)\n"
   ]
  },
  {
   "cell_type": "markdown",
   "id": "7ddfccad",
   "metadata": {},
   "source": [
    "\n",
    "## Load privacy & compliance results\n",
    "\n",
    "These were produced by notebooks 01–03. (The notebook will still run if some files are missing; values will default.)\n"
   ]
  },
  {
   "cell_type": "code",
   "execution_count": null,
   "id": "8d2b445e",
   "metadata": {},
   "outputs": [],
   "source": [
    "\n",
    "def _load_json(p):\n",
    "    try:\n",
    "        return json.loads(Path(p).read_text())\n",
    "    except Exception:\n",
    "        return {}\n",
    "\n",
    "privacy_report = _load_json(DATA_DIR / \"privacy_report.json\")\n",
    "compliance_report = _load_json(DATA_DIR / \"privacy_compliance_report.json\")\n",
    "\n",
    "print(\"Loaded keys: privacy:\", list(privacy_report.keys())[:6], \"| compliance:\", list(compliance_report.keys())[:6])\n"
   ]
  },
  {
   "cell_type": "markdown",
   "id": "93e06bd7",
   "metadata": {},
   "source": [
    "\n",
    "## Configure program economics (edit as needed)\n",
    "\n",
    "These values are **illustrative defaults**. Adjust to your program/portfolio.\n"
   ]
  },
  {
   "cell_type": "code",
   "execution_count": null,
   "id": "f8537778",
   "metadata": {},
   "outputs": [],
   "source": [
    "\n",
    "ts = PrivacyScenario(\n",
    "    prob_incident_per_year=0.08,          # baseline incident probability\n",
    "    regulatory_fine_usd=2_500_000.0,      # potential fine\n",
    "    reputation_cost_usd=1_000_000.0,      # reputational remediation\n",
    "    expected_delay_months_if_incident=4.0,# months delayed if incident\n",
    "    delay_cost_per_month_usd=500_000.0,   # cost per delay month\n",
    "    program_monthly_value_usd=3_000_000.0,# value of time-to-market\n",
    "    discount_rate_annual=0.10             # WACC/hurdle\n",
    ")\n",
    "ts\n"
   ]
  },
  {
   "cell_type": "markdown",
   "id": "f669be0d",
   "metadata": {},
   "source": [
    "\n",
    "## Configure safeguard bundle (edit as needed)\n",
    "\n",
    "Includes **CapEx**, **OpEx**, and relative **effectiveness** (risk and delay reduction).\n"
   ]
  },
  {
   "cell_type": "code",
   "execution_count": null,
   "id": "d90548f1",
   "metadata": {},
   "outputs": [],
   "source": [
    "\n",
    "sg = SafeguardBundle(\n",
    "    cost_deid_capex_usd=400_000.0,\n",
    "    cost_ppa_capex_usd=250_000.0,\n",
    "    cost_governance_capex_usd=150_000.0,\n",
    "    cost_annual_opex_usd=300_000.0,\n",
    "    risk_reduction_relative=0.6,   # reduces incident probability by 60%\n",
    "    delay_reduction_relative=0.5,  # reduces expected delay by 50%\n",
    "    horizon_years=3\n",
    ")\n",
    "sg\n"
   ]
  },
  {
   "cell_type": "markdown",
   "id": "1934020e",
   "metadata": {},
   "source": [
    "\n",
    "## ROI summary\n"
   ]
  },
  {
   "cell_type": "code",
   "execution_count": null,
   "id": "9c0f7718",
   "metadata": {},
   "outputs": [],
   "source": [
    "\n",
    "roi = roi_summary(ts, sg)\n",
    "\n",
    "# Save for report builder\n",
    "(DATA_DIR / \"privacy_roi_summary.json\").write_text(json.dumps(roi, indent=2))\n",
    "roi\n"
   ]
  },
  {
   "cell_type": "markdown",
   "id": "823939ba",
   "metadata": {},
   "source": [
    "\n",
    "## One‑way sensitivity\n",
    "\n",
    "Explore how ROI changes with **incident probability** and **safeguard effectiveness**.\n"
   ]
  },
  {
   "cell_type": "code",
   "execution_count": null,
   "id": "cecd0ff4",
   "metadata": {},
   "outputs": [],
   "source": [
    "\n",
    "grid = {\n",
    "    \"ts.prob_incident_per_year\": [0.02, 0.05, 0.08, 0.12, 0.15],\n",
    "    \"sg.risk_reduction_relative\": [0.3, 0.5, 0.7, 0.9]\n",
    "}\n",
    "rows = sensitivity(ts, sg, grid)\n",
    "(DATA_DIR / \"privacy_sensitivity.json\").write_text(json.dumps(rows, indent=2))\n",
    "pd.DataFrame(rows).head()\n"
   ]
  },
  {
   "cell_type": "markdown",
   "id": "ad71a674",
   "metadata": {},
   "source": [
    "\n",
    "## Build final PDF report\n",
    "\n",
    "Compiles metrics & charts into `reports/privacy_compliance_report.pdf`.  \n",
    "If `reportlab` is not installed, a Markdown fallback will be created instead.\n"
   ]
  },
  {
   "cell_type": "code",
   "execution_count": null,
   "id": "8bc7e109",
   "metadata": {},
   "outputs": [],
   "source": [
    "\n",
    "out_path = build_privacy_pdf(\n",
    "    title=\"Privacy & Compliance Readout\",\n",
    "    paths=ReportPaths(\n",
    "        privacy_json=DATA_DIR / \"privacy_report.json\",\n",
    "        compliance_json=DATA_DIR / \"privacy_compliance_report.json\",\n",
    "        roi_json=DATA_DIR / \"privacy_roi_summary.json\",\n",
    "        sensitivity_json=DATA_DIR / \"privacy_sensitivity.json\",\n",
    "    )\n",
    ")\n",
    "out_path\n"
   ]
  },
  {
   "cell_type": "markdown",
   "id": "a1c3e8b4",
   "metadata": {},
   "source": [
    "\n",
    "## How to present to leadership\n",
    "\n",
    "- **Headline**: “Safeguards reduce expected losses and time-to-market risk; ROI = Net Benefit / Cost.”  \n",
    "- **Slider ranges**: Show sensitivity bands (p(incident), effectiveness) to highlight robustness.  \n",
    "- **Action**: Approve the safeguard bundle; schedule quarterly re‑assessment; attach this report to DUA approvals.\n"
   ]
  }
 ],
 "metadata": {},
 "nbformat": 4,
 "nbformat_minor": 5
}
